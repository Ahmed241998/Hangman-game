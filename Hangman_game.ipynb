{
 "cells": [
  {
   "cell_type": "markdown",
   "metadata": {
    "id": "L4I-GzSk_ujA"
   },
   "source": [
    "![image.png](attachment:image.png)"
   ]
  },
  {
   "cell_type": "code",
   "execution_count": null,
   "metadata": {
    "id": "QN_8Ozgq_vlG"
   },
   "outputs": [],
   "source": []
  },
  {
   "cell_type": "markdown",
   "metadata": {
    "id": "9v4hYAST_ujE"
   },
   "source": [
    "## Description\n",
    "> ##### The Hangman program randomly selects a secret word from a list of secret words.\n",
    "> ##### The Game: Here, a random word (a fruit name) is picked up from our collection and the player gets limited chances to win the game.\n",
    "> ##### When a letter in that word is guessed correctly, that letter position in the word is made visible. In this way,all letters of the word are to be guessed before all the chances are over.\n",
    "> ##### For convenience, we have given length of word + 2 chances. For example, word to be guessed is mango, then user gets 5 + 2 = 7 chances, as mango is a five letter word."
   ]
  },
  {
   "cell_type": "code",
   "execution_count": 1,
   "metadata": {},
   "outputs": [],
   "source": [
    "import random\n",
    "def inputs () :\n",
    "    \"\"\"\n",
    "    Choose which fruit the game will be about\n",
    "    Return :\n",
    "    (str) word - fruit name from the list\n",
    "    \"\"\"\n",
    "    # fruit list\n",
    "    lst=[\"apple\",\"orange\",\"banana\",\"peach\",\"mango\", \"watermelon\"]\n",
    "    print(\"let's play the game\")\n",
    "    print(\"we will guess fruit name together\")\n",
    "    # choose word randomly among the fruit list\n",
    "    word=random.choice(lst)\n",
    "    return word"
   ]
  },
  {
   "cell_type": "code",
   "execution_count": 2,
   "metadata": {},
   "outputs": [],
   "source": [
    "def underscore_gen(word):\n",
    "    \"\"\"\n",
    "    create a list that have each character of the fruit name replaced by underscores except spaces \n",
    "    Returns :\n",
    "    (list) lst1 - characters of fruit name replaced by  except spaces\n",
    "    \"\"\"\n",
    "    lst1=[]\n",
    "    for i in range (0,len(word),1) :\n",
    "        if word[i]== \" \" :\n",
    "            lst1.append(\" \")\n",
    "        else :\n",
    "            lst1.append(\"_\")\n",
    "    # Give the user the Name of fruit and each character of the fruit is replaced by underscore\n",
    "    s=\" \".join(lst1)\n",
    "    print(s)\n",
    "    return lst1"
   ]
  },
  {
   "cell_type": "code",
   "execution_count": 3,
   "metadata": {},
   "outputs": [],
   "source": [
    "def word__lst(word) :\n",
    "    \"\"\"\n",
    "    create a list that have each character of the fruit name except spaces\n",
    "    Returns :\n",
    "    (list) word_list - characters of the fruit name\"\"\"\n",
    "    word_lst=[]\n",
    "    for i in range (0,len(word),1) :\n",
    "        word_lst.append(word[i])\n",
    "    return word_lst"
   ]
  },
  {
   "cell_type": "code",
   "execution_count": 4,
   "metadata": {},
   "outputs": [],
   "source": [
    "def user_input() :\n",
    "    \"\"\"\n",
    "    Ask user to enter his guessed character\n",
    "    Return \n",
    "    (str) user_input - guessed character\n",
    "    \"\"\"\n",
    "    user_input=(input(\"Enter character you guessed : \")).strip().lower()\n",
    "    # Handle invalid inputs and ask user for correct selection\n",
    "    while True :\n",
    "        if len(user_input)==1 and user_input.isalpha()== True :\n",
    "            break \n",
    "        else :\n",
    "            print(\"Please, Enter valid input\")\n",
    "            user_input=input(\"Enter character you guessed : \")\n",
    "    return user_input"
   ]
  },
  {
   "cell_type": "code",
   "execution_count": 5,
   "metadata": {},
   "outputs": [],
   "source": [
    "def code (word,lst1,word_lst) :\n",
    "    \"\"\"\n",
    "    check every time the user input character and display the word if the user guessed all characters correctly\n",
    "    \"\"\"\n",
    "    chance = 0\n",
    "    # check the number of the chances that is available for user \n",
    "    while chance <= len(word)+2 :\n",
    "        # check if he guessed all character correctly\n",
    "        if \"_\" not in lst1 :\n",
    "            print(\"congratualtions, You guessed Word correctly '{}'\".format(\"\".join(lst1)))\n",
    "            print(\"-\"*40)\n",
    "            break\n",
    "        # check if the user consumes all the chances but there was no spaces in the fruit name\n",
    "        elif chance == len(word)+2 and \" \" not in word_lst:\n",
    "            print (\"You didnot guess it correctly\")\n",
    "            print(\"-\"*40)\n",
    "            break\n",
    "        # check if the user consumes all the chances but there was spaces in the fruit name \n",
    "        elif chance == len(word)+1 and \" \" in word_lst:\n",
    "            print (\"You didnot guess it correctly\")\n",
    "            print(\"-\"*40)\n",
    "            break\n",
    "        # give the user alarm and tell him that is his last chance if there was no spaces in the word\n",
    "        elif chance == len(word)+1 and \" \" not in word_lst:\n",
    "            print (\"This Your last chance!\")\n",
    "        # give the user alarm and tell him that is his last chance if there was spaces in the word\n",
    "        elif chance == len(word) and \" \" in word_lst:\n",
    "            print (\"This Your last chance!\")\n",
    "        use_input=user_input()\n",
    "        # check if the enter correct character and replace underscore with this character\n",
    "        if use_input in word_lst :\n",
    "            for i,e in enumerate (word_lst) :\n",
    "                if use_input == e :\n",
    "                    lst1[i]=e\n",
    "        else :\n",
    "            print(\"You Have Entered Wrong Character, Try Again\")\n",
    "        chance+=1\n",
    "        s=\" \".join(lst1)\n",
    "        # Display word after replacing underscores with guessed character\n",
    "        print(s)\n",
    "        print(\"-\"*40)"
   ]
  },
  {
   "cell_type": "code",
   "execution_count": 6,
   "metadata": {},
   "outputs": [
    {
     "name": "stdout",
     "output_type": "stream",
     "text": [
      "let's play the game\n",
      "we will guess fruit name together\n",
      "_ _ _ _ _\n",
      "Enter character you guessed : a\n",
      "_ a _ _ _\n",
      "----------------------------------------\n",
      "Enter character you guessed : l\n",
      "You Have Entered Wrong Character, Try Again\n",
      "_ a _ _ _\n",
      "----------------------------------------\n",
      "Enter character you guessed : m\n",
      "m a _ _ _\n",
      "----------------------------------------\n",
      "Enter character you guessed : n\n",
      "m a n _ _\n",
      "----------------------------------------\n",
      "Enter character you guessed : g\n",
      "m a n g _\n",
      "----------------------------------------\n",
      "Enter character you guessed : o\n",
      "m a n g o\n",
      "----------------------------------------\n",
      "congratualtions, You guessed Word correctly 'mango'\n",
      "----------------------------------------\n",
      "do You want to play with me again [y/n]y\n",
      "let's play the game\n",
      "we will guess fruit name together\n",
      "_ _ _ _ _\n",
      "Enter character you guessed : a\n",
      "_ _ a _ _\n",
      "----------------------------------------\n",
      "Enter character you guessed : o\n",
      "You Have Entered Wrong Character, Try Again\n",
      "_ _ a _ _\n",
      "----------------------------------------\n",
      "Enter character you guessed : p\n",
      "p _ a _ _\n",
      "----------------------------------------\n",
      "Enter character you guessed : e\n",
      "p e a _ _\n",
      "----------------------------------------\n",
      "Enter character you guessed : c\n",
      "p e a c _\n",
      "----------------------------------------\n",
      "Enter character you guessed : h\n",
      "p e a c h\n",
      "----------------------------------------\n",
      "congratualtions, You guessed Word correctly 'peach'\n",
      "----------------------------------------\n",
      "do You want to play with me again [y/n]l\n",
      "please enter valid input\n",
      "do You want to play with me again [y/n]n\n"
     ]
    }
   ],
   "source": [
    "word=inputs()\n",
    "lst1=underscore_gen(word)\n",
    "word_lst=word__lst(word)\n",
    "code (word,lst1,word_lst)\n",
    "# Ask user to play again or end the game\n",
    "while True :\n",
    "    response=(input(\"do You want to play with me again [y/n]\")).strip().lower()\n",
    "    if response == \"yes\" or response == \"y\" :\n",
    "        word=inputs()\n",
    "        lst1=underscore_gen(word)\n",
    "        word_lst=word__lst(word)\n",
    "        code (word,lst1,word_lst)\n",
    "    elif response == \"no\" or response == \"n\" :\n",
    "        break\n",
    "    else :\n",
    "        print(\"please enter valid input\")"
   ]
  }
 ],
 "metadata": {
  "colab": {
   "provenance": []
  },
  "kernelspec": {
   "display_name": "Python 3 (ipykernel)",
   "language": "python",
   "name": "python3"
  },
  "language_info": {
   "codemirror_mode": {
    "name": "ipython",
    "version": 3
   },
   "file_extension": ".py",
   "mimetype": "text/x-python",
   "name": "python",
   "nbconvert_exporter": "python",
   "pygments_lexer": "ipython3",
   "version": "3.9.13"
  }
 },
 "nbformat": 4,
 "nbformat_minor": 1
}
